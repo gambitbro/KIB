{
  "nbformat": 4,
  "nbformat_minor": 0,
  "metadata": {
    "colab": {
      "provenance": [],
      "mount_file_id": "12YhKf6ppxwQGyLgH7wEXMeZzzCYKY32X",
      "authorship_tag": "ABX9TyNc7w1JjREK7C37UEldlIEI",
      "include_colab_link": true
    },
    "kernelspec": {
      "name": "python3",
      "display_name": "Python 3"
    },
    "language_info": {
      "name": "python"
    }
  },
  "cells": [
    {
      "cell_type": "markdown",
      "metadata": {
        "id": "view-in-github",
        "colab_type": "text"
      },
      "source": [
        "<a href=\"https://colab.research.google.com/github/gambitbro/KIB/blob/main/Untitled1.ipynb\" target=\"_parent\"><img src=\"https://colab.research.google.com/assets/colab-badge.svg\" alt=\"Open In Colab\"/></a>"
      ]
    },
    {
      "cell_type": "code",
      "execution_count": 2,
      "metadata": {
        "id": "aSsIM-OEIhOM"
      },
      "outputs": [],
      "source": [
        "import pandas as pd\n",
        "import numpy as np\n",
        "import sklearn"
      ]
    },
    {
      "cell_type": "code",
      "source": [
        "folder = '/content/drive/MyDrive/Colab Notebooks/'\n",
        "loan3000 = pd.read_csv(folder + 'loan3000.csv')\n",
        "print(loan3000.head())\n"
      ],
      "metadata": {
        "colab": {
          "base_uri": "https://localhost:8080/"
        },
        "id": "jdwfdoEkIyue",
        "outputId": "05fcb40b-fe9d-4dda-87ab-01e5b9edaa59"
      },
      "execution_count": 3,
      "outputs": [
        {
          "output_type": "stream",
          "name": "stdout",
          "text": [
            "   Unnamed: 0   outcome            purpose_    dti  borrower_score  \\\n",
            "0       32109  paid off  debt_consolidation  21.23            0.40   \n",
            "1       16982   default         credit_card  15.49            0.40   \n",
            "2       25335  paid off  debt_consolidation  27.30            0.70   \n",
            "3       34580  paid off      major_purchase  21.11            0.40   \n",
            "4       14424   default  debt_consolidation  16.46            0.45   \n",
            "\n",
            "   payment_inc_ratio  \n",
            "0            5.11135  \n",
            "1            5.43165  \n",
            "2            9.23003  \n",
            "3            2.33482  \n",
            "4           12.10320  \n"
          ]
        }
      ]
    },
    {
      "cell_type": "code",
      "source": [
        "predictors = ['borrower_score', 'payment_inc_ratio']\n",
        "outcome = 'outcome'\n",
        "X = loan3000[predictors]\n",
        "y = loan3000[outcome]"
      ],
      "metadata": {
        "id": "1r_es2rqJW-e"
      },
      "execution_count": 4,
      "outputs": []
    },
    {
      "cell_type": "code",
      "source": [
        "y = pd.Series(1 if out == 'default' else 0 for out in loan3000['outcome'])"
      ],
      "metadata": {
        "id": "6MzCuT1pJj2o"
      },
      "execution_count": 5,
      "outputs": []
    },
    {
      "cell_type": "code",
      "source": [
        "from xgboost import XGBClassifier\n",
        "xgb = XGBClassifier(objective='binary:logistic', submaple=0.63, eval_metric='error')"
      ],
      "metadata": {
        "id": "hvNOzEdbKGRA"
      },
      "execution_count": 7,
      "outputs": []
    },
    {
      "cell_type": "code",
      "source": [
        "xgb.fit(X, y)"
      ],
      "metadata": {
        "id": "DtvANzz5P6zY"
      },
      "execution_count": null,
      "outputs": []
    }
  ]
}